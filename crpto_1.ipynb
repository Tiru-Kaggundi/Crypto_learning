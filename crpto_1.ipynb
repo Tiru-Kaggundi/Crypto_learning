{
  "nbformat": 4,
  "nbformat_minor": 0,
  "metadata": {
    "colab": {
      "provenance": [],
      "authorship_tag": "ABX9TyMo01aGYxwXW6ihZWENC5A8",
      "include_colab_link": true
    },
    "kernelspec": {
      "name": "python3",
      "display_name": "Python 3"
    },
    "language_info": {
      "name": "python"
    }
  },
  "cells": [
    {
      "cell_type": "markdown",
      "metadata": {
        "id": "view-in-github",
        "colab_type": "text"
      },
      "source": [
        "<a href=\"https://colab.research.google.com/github/Tiru-Kaggundi/Crypto_learning/blob/main/crpto_1.ipynb\" target=\"_parent\"><img src=\"https://colab.research.google.com/assets/colab-badge.svg\" alt=\"Open In Colab\"/></a>"
      ]
    },
    {
      "cell_type": "code",
      "execution_count": null,
      "metadata": {
        "colab": {
          "base_uri": "https://localhost:8080/"
        },
        "id": "qPs3q3jE1Ez8",
        "outputId": "c5eb1e37-f944-483d-bbaf-13a6e805b052"
      },
      "outputs": [
        {
          "output_type": "stream",
          "name": "stdout",
          "text": [
            "=== Avalanche Effect ===\n",
            "'hello' -> 2cf24dba5fb0a30e26e83b2ac5b9e29e1b161e5c1fa7425e73043362938b9824\n",
            "'hell0' -> bdeddd433637173928fe7202b663157c9e1881c3e4da1d45e8fff8fb944a4868\n",
            "Bit differences = 139/256\n",
            "\n"
          ]
        }
      ],
      "source": [
        "# Cryptographic Hash Properties Demo\n",
        "import hashlib, os, time\n",
        "\n",
        "def sha256(data: bytes) -> str:\n",
        "    return hashlib.sha256(data).hexdigest()\n",
        "\n",
        "# 1) Avalanche Effect (Collision Resistance intuition)\n",
        "msg1 = \"hello\"\n",
        "msg2 = \"hell0\"   # small change\n",
        "\n",
        "hash1 = sha256(msg1.encode())\n",
        "hash2 = sha256(msg2.encode())\n",
        "\n",
        "print(\"=== Avalanche Effect ===\")\n",
        "print(f\"{msg1!r} -> {hash1}\")\n",
        "print(f\"{msg2!r} -> {hash2}\")\n",
        "\n",
        "diff_bits = sum(a != b for a,b in zip(\n",
        "    bin(int(hash1,16))[2:].zfill(256),\n",
        "    bin(int(hash2,16))[2:].zfill(256)\n",
        "))\n",
        "print(f\"Bit differences = {diff_bits}/256\\n\")"
      ]
    },
    {
      "cell_type": "code",
      "source": [
        "# 2) Hiding property via commitment\n",
        "def commit(message: str):\n",
        "    r = os.urandom(16)   # random salt\n",
        "    c = sha256(r + message.encode())\n",
        "    return r, c\n",
        "\n",
        "def verify_commitment(r, message, commitment):\n",
        "    return sha256(r + message.encode()) == commitment\n",
        "\n",
        "print(\"=== Commitment (Hiding) ===\")\n",
        "secret = \"My bid is $17.50\"\n",
        "r, c = commit(secret)\n",
        "print(f\"Commitment published = {c}\")\n"
      ],
      "metadata": {
        "colab": {
          "base_uri": "https://localhost:8080/"
        },
        "id": "tLD9MXND1THp",
        "outputId": "312f64ef-88c4-4356-d7d2-d189e216165e"
      },
      "execution_count": null,
      "outputs": [
        {
          "output_type": "stream",
          "name": "stdout",
          "text": [
            "=== Commitment (Hiding) ===\n",
            "Commitment published = e53025f5afe617dbc2b8586224107c0d440ac2214a7a892129445354578bcbde\n"
          ]
        }
      ]
    },
    {
      "cell_type": "code",
      "source": [
        "\n",
        "# Later reveal\n",
        "print(\"\\nRevealing...\")\n",
        "print(f\"Nonce (r) = {r.hex()}\")\n",
        "print(f\"Message   = {secret}\")\n",
        "print(\"Valid?\", verify_commitment(r, secret, c))\n"
      ],
      "metadata": {
        "colab": {
          "base_uri": "https://localhost:8080/"
        },
        "id": "EkPQ77ha1Veg",
        "outputId": "eb4b3548-cbe2-4599-c522-c0011cf0517b"
      },
      "execution_count": null,
      "outputs": [
        {
          "output_type": "stream",
          "name": "stdout",
          "text": [
            "\n",
            "Revealing...\n",
            "Nonce (r) = d7baeaef0f1141eae35f6fb11eaf43b9\n",
            "Message   = My bid is $17.50\n",
            "Valid? True\n"
          ]
        }
      ]
    },
    {
      "cell_type": "code",
      "source": [
        "\n",
        "# 3) Puzzle-Friendliness (Proof-of-Work)\n",
        "def mine(data: str, difficulty: int = 4):\n",
        "    prefix = \"0\" * difficulty\n",
        "    start = time.time()\n",
        "    nonce = 0\n",
        "    while True:\n",
        "        candidate = f\"{data}|{nonce}\".encode()\n",
        "        digest = sha256(candidate)\n",
        "        if digest.startswith(prefix):\n",
        "            elapsed = time.time() - start\n",
        "            return nonce, digest, elapsed\n",
        "        nonce += 1\n",
        "\n",
        "print(\"\\n=== Proof of Work Demo ===\")\n",
        "nonce, hval, elapsed = mine(\"block-header\", difficulty=4)\n",
        "print(f\"Found nonce = {nonce}\")\n",
        "print(f\"Hash = {hval}\")\n",
        "print(f\"Time = {elapsed:.4f} sec\")"
      ],
      "metadata": {
        "colab": {
          "base_uri": "https://localhost:8080/"
        },
        "id": "mbkua9u61VmG",
        "outputId": "6e1fdd23-8380-4629-b0cc-927c15da6379"
      },
      "execution_count": null,
      "outputs": [
        {
          "output_type": "stream",
          "name": "stdout",
          "text": [
            "\n",
            "=== Proof of Work Demo ===\n",
            "Found nonce = 164158\n",
            "Hash = 00000a77409486aaf23f2062cf3b3f6cc8fdd521278c60121071fb577cbe9be2\n",
            "Time = 0.2163 sec\n"
          ]
        }
      ]
    }
  ]
}