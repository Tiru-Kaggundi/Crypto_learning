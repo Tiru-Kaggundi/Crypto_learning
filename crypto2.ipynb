{
  "nbformat": 4,
  "nbformat_minor": 0,
  "metadata": {
    "colab": {
      "provenance": [],
      "authorship_tag": "ABX9TyNPbDemz8ITFI8KQJFzWhf2",
      "include_colab_link": true
    },
    "kernelspec": {
      "name": "python3",
      "display_name": "Python 3"
    },
    "language_info": {
      "name": "python"
    }
  },
  "cells": [
    {
      "cell_type": "markdown",
      "metadata": {
        "id": "view-in-github",
        "colab_type": "text"
      },
      "source": [
        "<a href=\"https://colab.research.google.com/github/Tiru-Kaggundi/Crypto_learning/blob/main/crypto2.ipynb\" target=\"_parent\"><img src=\"https://colab.research.google.com/assets/colab-badge.svg\" alt=\"Open In Colab\"/></a>"
      ]
    },
    {
      "cell_type": "code",
      "execution_count": 1,
      "metadata": {
        "colab": {
          "base_uri": "https://localhost:8080/"
        },
        "id": "8JAZQl-P3Lsx",
        "outputId": "4fdcbe93-6aaa-4b79-d69f-8c026857abe6"
      },
      "outputs": [
        {
          "output_type": "stream",
          "name": "stdout",
          "text": [
            "\u001b[?25l   \u001b[90m━━━━━━━━━━━━━━━━━━━━━━━━━━━━━━━━━━━━━━━━\u001b[0m \u001b[32m0.0/150.6 kB\u001b[0m \u001b[31m?\u001b[0m eta \u001b[36m-:--:--\u001b[0m\r\u001b[2K   \u001b[90m━━━━━━━━━━━━━━━━━━━━━━━━━━━━━━━━━━━━━━━━\u001b[0m \u001b[32m150.6/150.6 kB\u001b[0m \u001b[31m5.1 MB/s\u001b[0m eta \u001b[36m0:00:00\u001b[0m\n",
            "\u001b[?25h"
          ]
        }
      ],
      "source": [
        "# Digital Signatures: ECDSA (secp256k1) — Colab-ready demo\n",
        "# --------------------------------------------------------\n",
        "# What you'll see:\n",
        "# 1) Generate keypair (private/public)\n",
        "# 2) Sign a message (hash-then-sign with SHA-256)\n",
        "# 3) Verify the signature\n",
        "# 4) Tampering detection (fails to verify)\n",
        "# 5) Different key cannot verify (authenticity)\n",
        "# 6) BONUS: Nonce-reuse vulnerability — recover the private key if 'k' is reused!\n",
        "\n",
        "!pip -q install ecdsa\n",
        "\n",
        "import os, hashlib, binascii\n",
        "from ecdsa import SigningKey, VerifyingKey, SECP256k1, util\n",
        "from ecdsa.util import sigencode_der, sigdecode_der\n",
        "\n"
      ]
    },
    {
      "cell_type": "code",
      "source": [
        "\n",
        "# --- Helpers ---\n",
        "def sha256_bytes(m: bytes) -> bytes:\n",
        "    return hashlib.sha256(m).digest()\n",
        "\n",
        "def to_hex(b: bytes) -> str:\n",
        "    return binascii.hexlify(b).decode()\n",
        "\n",
        "# --- 1) Generate a keypair (secp256k1) ---\n",
        "sk = SigningKey.generate(curve=SECP256k1)     # private key\n",
        "vk = sk.get_verifying_key()                   # public key\n",
        "\n",
        "print(\"=== Keypair (secp256k1) ===\")\n",
        "print(\"Private key (32B):\", to_hex(sk.to_string()))\n",
        "print(\"Public key  (64B, uncompressed XY):\", to_hex(vk.to_string()))\n",
        "print()\n"
      ],
      "metadata": {
        "id": "vSHVkLNu3PTB"
      },
      "execution_count": null,
      "outputs": []
    },
    {
      "cell_type": "code",
      "source": [
        "\n",
        "# --- 2) Sign a message (hash then sign) ---\n",
        "message = b\"Pay 100 units to Alice\"\n",
        "msg_hash = sha256_bytes(message)\n",
        "signature_der = sk.sign(msg_hash, sigencode=sigencode_der, hashfunc=hashlib.sha256)\n",
        "\n",
        "print(\"=== Sign Message ===\")\n",
        "print(\"Message:\", message.decode())\n",
        "print(\"SHA-256(message):\", to_hex(msg_hash))\n",
        "print(\"Signature (DER):\", to_hex(signature_der))\n",
        "print()\n"
      ],
      "metadata": {
        "id": "OLx6_Zp73RfZ"
      },
      "execution_count": null,
      "outputs": []
    },
    {
      "cell_type": "code",
      "source": [
        "\n",
        "# --- 3) Verify the signature ---\n",
        "try:\n",
        "    ok = vk.verify(signature_der, msg_hash, sigdecode=sigdecode_der, hashfunc=hashlib.sha256)\n",
        "    print(\"=== Verify ===\")\n",
        "    print(\"Valid signature?\", ok)\n",
        "except Exception as e:\n",
        "    print(\"Verification error:\", e)\n",
        "print()\n"
      ],
      "metadata": {
        "id": "2Tl8-Qd23TiP"
      },
      "execution_count": null,
      "outputs": []
    },
    {
      "cell_type": "code",
      "source": [
        "\n",
        "# --- 4) Tampering test: change the message, reuse same signature -> verification should fail ---\n",
        "tampered = b\"Pay 1000 units to Alice\"   # modified\n",
        "tampered_hash = sha256_bytes(tampered)\n",
        "try:\n",
        "    ok_tampered = vk.verify(signature_der, tampered_hash, sigdecode=sigdecode_der, hashfunc=hashlib.sha256)\n",
        "    print(\"=== Tampering Test ===\")\n",
        "    print(\"Valid on tampered message?\", ok_tampered)\n",
        "except Exception:\n",
        "    print(\"=== Tampering Test ===\")\n",
        "    print(\"Valid on tampered message?\", False)\n",
        "print()\n"
      ],
      "metadata": {
        "id": "C-1ihyw43Vbw"
      },
      "execution_count": null,
      "outputs": []
    },
    {
      "cell_type": "code",
      "source": [
        "\n",
        "# --- 5) Different key cannot verify (authenticity / non-repudiation idea) ---\n",
        "sk_other = SigningKey.generate(curve=SECP256k1)\n",
        "vk_other = sk_other.get_verifying_key()\n",
        "try:\n",
        "    ok_other = vk_other.verify(signature_der, msg_hash, sigdecode=sigdecode_der, hashfunc=hashlib.sha256)\n",
        "    print(\"=== Wrong Key Test ===\")\n",
        "    print(\"Other key verifies?\", ok_other)\n",
        "except Exception:\n",
        "    print(\"=== Wrong Key Test ===\")\n",
        "    print(\"Other key verifies?\", False)\n",
        "print()\n"
      ],
      "metadata": {
        "id": "qdIDrzS73W8S"
      },
      "execution_count": null,
      "outputs": []
    },
    {
      "cell_type": "code",
      "source": [
        "\n",
        "# --- 6) BONUS: Nonce (k) reuse attack demo (educational) ---\n",
        "# ECDSA signs with a random nonce 'k'. If the signer mistakenly reuses the same k for two different messages,\n",
        "# the private"
      ],
      "metadata": {
        "id": "Di3LDMRL3Yxw"
      },
      "execution_count": null,
      "outputs": []
    }
  ]
}